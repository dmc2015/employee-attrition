{
 "cells": [
  {
   "cell_type": "markdown",
   "metadata": {},
   "source": [
    "### Data Loading"
   ]
  },
  {
   "cell_type": "code",
   "execution_count": null,
   "metadata": {},
   "outputs": [],
   "source": [
    "import io\n",
    "import zipfile\n",
    "import pandas as pd\n",
    "import pprint\n",
    "\n",
    "\n",
    "pp = pprint.PrettyPrinter(indent=4).pprint\n",
    "pd.set_option('display.max_rows', 500\n",
    "data_file_path = '../data/ibm-hr-analytics-attrition-dataset.zip'\n",
    "encoding = 'utf-8-sig'\n",
    "data = []\n",
    "              \n",
    "with zipfile.ZipFile(data_file_path) as zfile:\n",
    "    for name in zfile.namelist():\n",
    "        with zfile.open(name) as readfile:\n",
    "            for line in io.TextIOWrapper(readfile, encoding):\n",
    "                data.append(line.replace('\\n', '').split(','))\n",
    "\n",
    "labels=['Age', 'Attrition', 'BusinessTravel', 'DailyRate', 'Department', \n",
    "       'DistanceFromHome', 'Education', 'EducationField', 'EducationField'\n",
    "       \"EmployeeCount\",\"EmployeeNumber\",\"EnvironmentSatisfaction\",\"Gender\",\"HourlyRate\",\"JobInvolvement\",\n",
    "       \"JobLevel\",\"JobRole\",\"JobSatisfaction\",\"MaritalStatus\",\"MonthlyIncome\",\"MonthlyRate\",\"NumCompaniesWorked\",\n",
    "       \"Over18\",\"OverTime\",\"PercentSalaryHike\",\"PerformanceRating\",\"RelationshipSatisfaction\",\"StandardHours\",\n",
    "       \"StockOptionLevel\",\"TotalWorkingYears\",\"TrainingTimesLastYear\",\"WorkLifeBalance\",\"YearsAtCompany\",\n",
    "       \"YearsInCurrentRole\",\"YearsSinceLastPromotion\",\"YearsWithCurrManager\"\n",
    "      ]\n",
    "\n",
    "attrition_df = pd.DataFrame(data, columns=labels)\n",
    "attrition_df = attrition_df.drop([0])\n",
    "\n",
    "\n",
    "attrition_df"
   ]
  }
 ],
 "metadata": {
  "kernelspec": {
   "display_name": "Python 3",
   "language": "python",
   "name": "python3"
  },
  "language_info": {
   "codemirror_mode": {
    "name": "ipython",
    "version": 3
   },
   "file_extension": ".py",
   "mimetype": "text/x-python",
   "name": "python",
   "nbconvert_exporter": "python",
   "pygments_lexer": "ipython3",
   "version": "3.6.5"
  }
 },
 "nbformat": 4,
 "nbformat_minor": 2
}
